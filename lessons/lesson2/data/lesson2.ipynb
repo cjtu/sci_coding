{
 "cells": [
  {
   "cell_type": "markdown",
   "metadata": {},
   "source": [
    "# Lesson 2 Python practice\n",
    "In this lesson we will interactively practice writing Python code. Below are the skeletons of various functions involving strings, booleans, and control flow. You are tasked with conpleteing the functions so that they produce the correct outputs. \n",
    "\n",
    "## Docstrings\n",
    "Each function has a *docstring* denoted with `\"\"\"<description>\"\"\"`. Docstrings tell you what a Python function does and often provide some example inputs and outputs for how to run the function. You can check the docstring of any function using `help()`. For example, if we want to know what the built-in `print()` function does, we can type `help(print)`."
   ]
  },
  {
   "cell_type": "code",
   "execution_count": 19,
   "metadata": {},
   "outputs": [
    {
     "name": "stdout",
     "output_type": "stream",
     "text": [
      "Help on built-in function print in module builtins:\n",
      "\n",
      "print(...)\n",
      "    print(value, ..., sep=' ', end='\\n', file=sys.stdout, flush=False)\n",
      "    \n",
      "    Prints the values to a stream, or to sys.stdout by default.\n",
      "    Optional keyword arguments:\n",
      "    file:  a file-like object (stream); defaults to the current sys.stdout.\n",
      "    sep:   string inserted between values, default a space.\n",
      "    end:   string appended after the last value, default a newline.\n",
      "    flush: whether to forcibly flush the stream.\n",
      "\n"
     ]
    }
   ],
   "source": [
    "help(print)"
   ]
  },
  {
   "cell_type": "markdown",
   "metadata": {},
   "source": [
    "## Doctest\n",
    "To test your work, we will use the `doctest` module. Doctest automatically runs all of the examples in the docstring and shows you whether your code produces the example outputs. Make sure to import the module by running the `import doctest` block below before you start. Then when you run each cell, the `doctest.testmod()` function will check your code against the examples."
   ]
  },
  {
   "cell_type": "code",
   "execution_count": 18,
   "metadata": {},
   "outputs": [
    {
     "name": "stdout",
     "output_type": "stream",
     "text": [
      "Help on function hello_world in module __main__:\n",
      "\n",
      "hello_world(integer)\n",
      "    Return 'HelloWorld' integer number of times.\n",
      "    \n",
      "    >>> hello_world(0)\n",
      "    ''\n",
      "    >>> hello_world(1)\n",
      "    'HelloWorld'\n",
      "    >>> hello_world(3)\n",
      "    'HelloWorldHelloWorldHelloWorld'\n",
      "\n"
     ]
    },
    {
     "data": {
      "text/plain": [
       "'HelloWorldHelloWorldHelloWorld'"
      ]
     },
     "execution_count": 18,
     "metadata": {},
     "output_type": "execute_result"
    }
   ],
   "source": [
    "def hello_world(integer):\n",
    "    \"\"\"Return 'HelloWorld' integer number of times.\n",
    "    \n",
    "    >>> hello_world(0)\n",
    "    ''\n",
    "    >>> hello_world(1)\n",
    "    'HelloWorld'\n",
    "    >>> hello_world(3)\n",
    "    'HelloWorldHelloWorldHelloWorld'\n",
    "    \"\"\"\n",
    "    return 'HelloWorld'*integer\n"
   ]
  },
  {
   "cell_type": "code",
   "execution_count": 27,
   "metadata": {},
   "outputs": [
    {
     "name": "stdout",
     "output_type": "stream",
     "text": [
      "Finding tests in NoName\n",
      "Trying:\n",
      "    slice_first_five('abcdefg')\n",
      "Expecting:\n",
      "    'abcde'\n",
      "ok\n",
      "Trying:\n",
      "    slice_first_five('Hello World')\n",
      "Expecting:\n",
      "    'Hello'\n",
      "ok\n",
      "Trying:\n",
      "    slice_first_five('123456789')\n",
      "Expecting:\n",
      "    '12345'\n",
      "ok\n"
     ]
    }
   ],
   "source": [
    "def slice_first_five(string):\n",
    "    \"\"\"Return the first five characters of the string.\n",
    "    >>> slice_first_five('abcdefg')\n",
    "    'abcde'\n",
    "    >>> slice_first_five('Hello World')\n",
    "    'Hello'\n",
    "    >>> slice_first_five('123456789')\n",
    "    '12345'\n",
    "    \"\"\"\n",
    "    first_five = string[:5]# Write your slice here\n",
    "    return first_five \n",
    "\n",
    "doctest.run_docstring_examples(slice_first_five, globals(), verbose=True)"
   ]
  },
  {
   "cell_type": "code",
   "execution_count": null,
   "metadata": {},
   "outputs": [],
   "source": []
  }
 ],
 "metadata": {
  "kernelspec": {
   "display_name": "Python [conda root]",
   "language": "python",
   "name": "conda-root-py"
  },
  "language_info": {
   "codemirror_mode": {
    "name": "ipython",
    "version": 3
   },
   "file_extension": ".py",
   "mimetype": "text/x-python",
   "name": "python",
   "nbconvert_exporter": "python",
   "pygments_lexer": "ipython3",
   "version": "3.6.5"
  }
 },
 "nbformat": 4,
 "nbformat_minor": 2
}
